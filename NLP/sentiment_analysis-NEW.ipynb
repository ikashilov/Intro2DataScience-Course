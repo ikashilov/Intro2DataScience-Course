{
 "cells": [
  {
   "cell_type": "markdown",
   "metadata": {},
   "source": [
    "# Sentiment analysis in Russian using LSTM and Word2Vec"
   ]
  },
  {
   "cell_type": "markdown",
   "metadata": {},
   "source": [
    "Загрузим датасет твитов на русском с http://study.mokoron.com/"
   ]
  },
  {
   "cell_type": "code",
   "execution_count": 1,
   "metadata": {},
   "outputs": [
    {
     "name": "stdout",
     "output_type": "stream",
     "text": [
      "Hello dicks\n"
     ]
    }
   ],
   "source": [
    "import numpy as np\n",
    "import pandas as pd\n",
    "import matplotlib.cm as cm\n",
    "import matplotlib.pyplot as plt\n",
    "from sklearn.manifold import TSNE\n",
    "\n",
    "\n",
    "print('Hello dicks')"
   ]
  },
  {
   "cell_type": "markdown",
   "metadata": {},
   "source": [
    "### Загрузим данные из датасета"
   ]
  },
  {
   "cell_type": "markdown",
   "metadata": {},
   "source": [
    "В файлах хранятся размеченные твиты, нас интресует только текст"
   ]
  },
  {
   "cell_type": "code",
   "execution_count": 2,
   "metadata": {},
   "outputs": [],
   "source": [
    "n = ['id', 'date', 'name', 'text', 'typr', 'rep', 'rtw', 'faworite', 'stcount', 'followers', 'friends', 'listcount']\n",
    "data_positive = pd.read_csv('data/positive.csv', sep=';', error_bad_lines=False, names=n, usecols=['text'])\n",
    "data_negative = pd.read_csv('data/negative.csv', sep=';', error_bad_lines=False, names=n, usecols=['text'])\n",
    "\n",
    "sample_size = min(data_positive.shape[0], data_negative.shape[0])\n",
    "raw_data = np.concatenate((data_positive['text'].values[:sample_size],\n",
    "                           data_negative['text'].values[:sample_size]), axis=0)\n",
    "\n",
    "labels = [1] * sample_size + [0] * sample_size"
   ]
  },
  {
   "cell_type": "markdown",
   "metadata": {},
   "source": [
    "### Отфильтруем данные"
   ]
  },
  {
   "cell_type": "markdown",
   "metadata": {},
   "source": [
    "* заменим ё на е  \n",
    "* приведем все к нижнему регистру  \n",
    "* удалим знаки препинания (вообще говоря, нужно не все) \n",
    "* ссылки заменим на тег <\\url>\n",
    "* упоминния пользователей заменим на тег <\\user> \n",
    "    "
   ]
  },
  {
   "cell_type": "code",
   "execution_count": 3,
   "metadata": {},
   "outputs": [],
   "source": [
    "import re\n",
    "\n",
    "def preprocess_text(text):\n",
    "    text = text.lower().replace(\"ё\", \"е\")\n",
    "    text = re.sub('((www\\.[^\\s]+)|(https?://[^\\s]+)|(http?://[^\\s]+))', 'url', text)\n",
    "    text = re.sub('@[^\\s]+', 'user', text)\n",
    "    text = re.sub('[^a-zA-Zа-яА-Я1-9:)(;]+', ' ', text)\n",
    "    text = re.sub(' +', ' ', text)\n",
    "    return text.strip()\n",
    "\n",
    "processed_data = [preprocess_text(t) for t in raw_data]\n",
    "#processed_data = raw_data"
   ]
  },
  {
   "cell_type": "markdown",
   "metadata": {},
   "source": [
    "Найдем самое длинное предложение (твит)"
   ]
  },
  {
   "cell_type": "code",
   "execution_count": 4,
   "metadata": {},
   "outputs": [
    {
     "name": "stdout",
     "output_type": "stream",
     "text": [
      "173 rt user lt;span style font size: medium; gt; lt;br gt;хоч я amp;nbsp;й amp;nbsp;просив amp;nbsp;не amp;nbsp;додавати amp;nbsp;цей amp;nbsp;журнал amp;nbsp;( lt; span gt; lt;\n"
     ]
    }
   ],
   "source": [
    "max_sentence_len  = 0\n",
    "sent = ''\n",
    "\n",
    "for sentence in processed_data:\n",
    "    if len(sentence) > max_sentence_len:\n",
    "        max_sentence_len = len(sentence)\n",
    "        sent = sentence\n",
    "        \n",
    "print(max_sentence_len, sent)"
   ]
  },
  {
   "cell_type": "code",
   "execution_count": 5,
   "metadata": {},
   "outputs": [
    {
     "data": {
      "text/plain": [
       "['user',\n",
       " 'хоть',\n",
       " 'я',\n",
       " 'и',\n",
       " 'школота',\n",
       " 'но',\n",
       " 'поверь',\n",
       " 'у',\n",
       " 'нас',\n",
       " 'то',\n",
       " 'же',\n",
       " 'самое',\n",
       " ':d',\n",
       " 'общество',\n",
       " 'профилирующий',\n",
       " 'предмет',\n",
       " 'типа)']"
      ]
     },
     "execution_count": 5,
     "metadata": {},
     "output_type": "execute_result"
    }
   ],
   "source": [
    "w2v_data = [[w for w in processed_data[i].split()] for i in range(len(processed_data))]\n",
    "\n",
    "w2v_data[0]"
   ]
  },
  {
   "cell_type": "markdown",
   "metadata": {},
   "source": [
    "### Обучим модел word2vec"
   ]
  },
  {
   "cell_type": "code",
   "execution_count": 35,
   "metadata": {},
   "outputs": [
    {
     "name": "stderr",
     "output_type": "stream",
     "text": [
      "2019-03-27 16:04:02,384 : INFO : loading Word2Vec object from w2v/tweets_labeled.w2v\n",
      "2019-03-27 16:04:03,802 : INFO : loading wv recursively from w2v/tweets_labeled.w2v.wv.* with mmap=None\n",
      "2019-03-27 16:04:03,802 : INFO : loading vectors from w2v/tweets_labeled.w2v.wv.vectors.npy with mmap=None\n",
      "2019-03-27 16:04:04,066 : INFO : setting ignored attribute vectors_norm to None\n",
      "2019-03-27 16:04:04,066 : INFO : loading vocabulary recursively from w2v/tweets_labeled.w2v.vocabulary.* with mmap=None\n",
      "2019-03-27 16:04:04,066 : INFO : loading trainables recursively from w2v/tweets_labeled.w2v.trainables.* with mmap=None\n",
      "2019-03-27 16:04:04,066 : INFO : loading syn1neg from w2v/tweets_labeled.w2v.trainables.syn1neg.npy with mmap=None\n",
      "2019-03-27 16:04:04,324 : INFO : setting ignored attribute cum_table to None\n",
      "2019-03-27 16:04:04,324 : INFO : loaded w2v/tweets_labeled.w2v\n"
     ]
    },
    {
     "name": "stdout",
     "output_type": "stream",
     "text": [
      "Wall time: 2.4 s\n"
     ]
    }
   ],
   "source": [
    "%%time\n",
    "import logging\n",
    "import multiprocessing\n",
    "from gensim.models import Word2Vec, word2vec\n",
    "\n",
    "#logging.basicConfig(format='%(asctime)s : %(levelname)s : %(message)s', level=logging.INFO)\n",
    "\n",
    "#w2v_model = Word2Vec(w2v_data, size=max_sentence_len, window=3, min_count=1, iter=10, workers=multiprocessing.cpu_count()) \n",
    "#w2v_model.save('w2v/tweets_labeled.w2v')\n",
    "\n",
    "w2v_model = Word2Vec.load('w2v/tweets_labeled.w2v')\n",
    "\n",
    "predtrained_weights = w2v_model.wv.vectors\n",
    "vocab_size, emdedding_size = w2v_model.wv.vectors.shape"
   ]
  },
  {
   "cell_type": "markdown",
   "metadata": {},
   "source": [
    "Функция визуализации слов в пространстве *w2v*"
   ]
  },
  {
   "cell_type": "code",
   "execution_count": 7,
   "metadata": {},
   "outputs": [],
   "source": [
    "def tsne_plot(labels, tokens, classes, clusters):\n",
    "    tsne_model = TSNE(perplexity=15, n_components=2, init='pca', n_iter=3500, random_state=33)\n",
    "    new_values = tsne_model.fit_transform(tokens)\n",
    "\n",
    "    x = []\n",
    "    y = []\n",
    "\n",
    "    for value in new_values:\n",
    "        x.append(value[0])\n",
    "        y.append(value[1])\n",
    "\n",
    "    colors = cm.rainbow(np.linspace(0, 1, num=clusters))\n",
    "\n",
    "    plt.figure(figsize=(16, 9))\n",
    "    \n",
    "    for i in range(len(x)):\n",
    "        plt.scatter(x[i], y[i], c=[colors[classes[i]]], alpha=0.75)\n",
    "        plt.annotate(labels[i], alpha=0.75, xy=(x[i], y[i]), xytext=(5, 2), \n",
    "                     textcoords='offset points', ha='right', va='bottom', size=10)\n",
    "    plt.grid(True)\n",
    "    #plt.show()"
   ]
  },
  {
   "cell_type": "markdown",
   "metadata": {},
   "source": [
    "Выведем для примера по 10 синонимов для каждого из  8 слов"
   ]
  },
  {
   "cell_type": "code",
   "execution_count": 8,
   "metadata": {},
   "outputs": [
    {
     "name": "stderr",
     "output_type": "stream",
     "text": [
      "2019-03-27 15:46:37,355 : INFO : precomputing L2-norms of word weight vectors\n"
     ]
    },
    {
     "data": {
      "image/png": "[encoded data removed]",
      "text/plain": [
       "<Figure size 1152x648 with 1 Axes>"
      ]
     },
     "metadata": {
      "needs_background": "light"
     },
     "output_type": "display_data"
    }
   ],
   "source": [
    "lb = []\n",
    "tokens = []\n",
    "classes = []\n",
    "\n",
    "samples = 8\n",
    "for i, word in enumerate(['виктор', 'прaвый', 'воняешь', 'F#ошибка', 'глаз', 'iphone', 'вкусный', 'user']):\n",
    "    if word not in w2v_model.wv.vocab:\n",
    "        continue\n",
    "    tokens.append(w2v_model.wv[word])\n",
    "    lb.append(word)\n",
    "    classes.append(i)\n",
    "    for similar_word, similarity in w2v_model.wv.most_similar(word, topn=10):\n",
    "        tokens.append(w2v_model.wv[similar_word])\n",
    "        lb.append(similar_word)\n",
    "        classes.append(i)\n",
    "        \n",
    "tsne_plot(lb, tokens, classes, samples)"
   ]
  },
  {
   "cell_type": "markdown",
   "metadata": {},
   "source": [
    "### Перемешаем данные"
   ]
  },
  {
   "cell_type": "code",
   "execution_count": 10,
   "metadata": {},
   "outputs": [],
   "source": [
    "from sklearn.utils import shuffle\n",
    "\n",
    "features_shuf, labels_shuf = shuffle(processed_data, labels, random_state=666)"
   ]
  },
  {
   "cell_type": "markdown",
   "metadata": {},
   "source": [
    "### Построение модели"
   ]
  },
  {
   "cell_type": "code",
   "execution_count": 11,
   "metadata": {},
   "outputs": [
    {
     "name": "stderr",
     "output_type": "stream",
     "text": [
      "Using TensorFlow backend.\n"
     ]
    }
   ],
   "source": [
    "from keras.models import Sequential\n",
    "from keras.layers import Embedding\n",
    "from keras.layers import Dense, LSTM, Dropout\n",
    "from keras.layers import SpatialDropout1D, BatchNormalization\n",
    "from keras.callbacks import ModelCheckpoint, ReduceLROnPlateau, EarlyStopping\n",
    "\n",
    "# Создаем сеть\n",
    "model = Sequential()\n",
    "model.add(Embedding(input_dim=vocab_size, output_dim=emdedding_size, weights=[predtrained_weights]))\n",
    "#model.add(Embedding(NUM, DIM, input_length=SENTENCE_LENGTH, mask_zero=True))\n",
    "model.add(BatchNormalization())\n",
    "model.add(SpatialDropout1D(0.2))\n",
    "model.add(LSTM(100, dropout=0.2, recurrent_dropout=0.2, activation='relu', return_sequences=True))\n",
    "model.add(LSTM(50, dropout=0.3, recurrent_dropout=0.3, activation='relu'))\n",
    "model.add(Dense(1, activation=\"sigmoid\"))\n",
    "\n",
    "# Копмилируем модель\n",
    "model.compile(loss='binary_crossentropy',\n",
    "              optimizer='rmsprop',\n",
    "              metrics=['binary_accuracy'])\n"
   ]
  },
  {
   "cell_type": "markdown",
   "metadata": {},
   "source": [
    "### Обучение модели"
   ]
  },
  {
   "cell_type": "code",
   "execution_count": 30,
   "metadata": {},
   "outputs": [],
   "source": [
    "# Генератор пакетов (батчей)\n",
    "\n",
    "def generator(features, labels, batch_size):\n",
    "    x = np.zeros((batch_size, max_sentence_len), dtype=np.int)\n",
    "    y = np.zeros((batch_size), dtype=np.int)\n",
    "   \n",
    "    while True:\n",
    "        for i in range(batch_size):\n",
    "            index = np.random.choice(len(features))\n",
    "            for t, word in enumerate(features[index].split()):\n",
    "                x[i, t] = w2v_model.wv.vocab[word].index\n",
    "            y[i] = labels[index]\n",
    "                \n",
    "        yield x, y\n",
    "        "
   ]
  },
  {
   "cell_type": "code",
   "execution_count": null,
   "metadata": {},
   "outputs": [],
   "source": [
    "# Гиперпараметры\n",
    "NUM_EPOCHS = 5\n",
    "BATCH_SIZE = 128\n",
    "\n",
    "# Обучаем модель\n",
    "history = model.fit_generator(generator(features_shuf, labels_shuf, BATCH_SIZE),\n",
    "                              steps_per_epoch=int(len(features_shuf)/BATCH_SIZE) + 1,\n",
    "                              epochs=NUM_EPOCHS,\n",
    "                              verbose=1)"
   ]
  },
  {
   "cell_type": "markdown",
   "metadata": {},
   "source": [
    "### Выведем статистику обучения"
   ]
  },
  {
   "cell_type": "code",
   "execution_count": null,
   "metadata": {},
   "outputs": [],
   "source": [
    "import matplotlib.pylab as plt\n",
    "import matplotlib.pyplot as plt\n",
    "\n",
    "%pylab inline\n",
    "plt.figure(figsize(10,7))\n",
    "\n",
    "plt.plot(history.history['loss'])\n",
    "plt.plot(history.history['val_loss'])\n",
    "plt.title('model loss')\n",
    "plt.ylabel('loss')\n",
    "plt.xlabel('epoch')\n",
    "plt.legend(['train', 'test'], loc='best')\n",
    "plt.show()\n",
    "\n",
    "plt.plot(history.history['binary_accuracy'])\n",
    "plt.plot(history.history['val_binary_accuracy'])\n",
    "plt.title('model accuracy')\n",
    "plt.ylabel('accuracy')\n",
    "plt.xlabel('epoch')\n",
    "plt.legend(['train', 'test'], loc='best')\n",
    "plt.show()\n"
   ]
  },
  {
   "cell_type": "code",
   "execution_count": null,
   "metadata": {},
   "outputs": [],
   "source": [
    "# Проверяем качество обучения на тестовых данных\n",
    "scores = model.evaluate(x_test_seq, y_test, batch_size=BATCH_SIZE)\n",
    "\n",
    "print(\"Точность на тестовых данных: %.2f%%\" % (scores[1] * 100))"
   ]
  },
  {
   "cell_type": "code",
   "execution_count": null,
   "metadata": {},
   "outputs": [],
   "source": [
    "scores"
   ]
  },
  {
   "cell_type": "markdown",
   "metadata": {},
   "source": [
    "### Примеры работы"
   ]
  },
  {
   "cell_type": "markdown",
   "metadata": {},
   "source": [
    "Обычные высказывания"
   ]
  },
  {
   "cell_type": "code",
   "execution_count": null,
   "metadata": {},
   "outputs": [],
   "source": [
    "s0 = 'Вообще говоря, мне не по душе этот момент. Ужасно тормозит. стоит дохрена!!! Зря выкинул деньги'\n",
    "s1 = 'Если немного дорабоать, полчится достойная альтернатива iphone'\n",
    "s2 = 'Кусь. Фиговая фигня, но я балдею'\n",
    "s3 = 'Крч, fuck u gays!!!'\n",
    "s4 = 'Ничего не понятно, но в целом неплохо('\n",
    "s5 = 'Когда я первый раз зашел домой, я обрадовался столь плохому освещению'\n",
    "\n",
    "statements = list([s0, s1, s2, s3, s4, s5])\n",
    "\n",
    "filterd_statements = [preprocess_text(t) for t in statements]\n",
    "statements_seq = get_sequences(tokenizer, filterd_statements)"
   ]
  },
  {
   "cell_type": "code",
   "execution_count": null,
   "metadata": {},
   "outputs": [],
   "source": [
    "pred = model.predict(statements_seq)"
   ]
  },
  {
   "cell_type": "code",
   "execution_count": null,
   "metadata": {},
   "outputs": [],
   "source": [
    "np.set_printoptions(precision=2)\n",
    "for t in pred:\n",
    "    print(t)"
   ]
  },
  {
   "cell_type": "markdown",
   "metadata": {},
   "source": [
    "### Примеры отзывов на приложенеие \"Мегафон\" из Google Play"
   ]
  },
  {
   "cell_type": "code",
   "execution_count": null,
   "metadata": {},
   "outputs": [],
   "source": [
    "m0 = 'глюкопрога ничего не решает, пишет ошибка.'\n",
    "m1 = 'Не могу зайти в личный кабинет,30минут ждала пока загрузится,так и не звгрузился!!!!!'\n",
    "m2 = '''С сегодняшнего дня приложение просто перестало работать. \n",
    "Оператор выслал ссылку по ней все работает. Пробовал переустановить приложение, без результатов.'''\n",
    "\n",
    "m3 = '''верните иконки(виджеты) чтоб можно было вывести на главный экран телефона, \n",
    "очень удобно следить за балансом, и остатком трафика и т.д. не нужно постоянно заходить в личный кабинет. \n",
    "уважаемые разработчики а можно что бы виджеты работали на старых телефонах? у меня один из телефонов андройд 4.2.2. \n",
    "спасибо запонимание.(большая аудитория).у кого дорогие старые телефоны.'''\n",
    "\n",
    "m4 = '''По работе приложения вопросов нет. Перешел на МегаФон с Билайна. \n",
    "И там и там использовал тарифный план с включенными пакетами услуг. \n",
    "И вот на мегафоне решили сделать гениально. Пока есть пакет минут, звонки на все номера (в том числе и мегафон)\n",
    "списываются с пакета включенных минут. А вот когда пакет заканчивается, пожалуйста, звоните на мегафон бесплатно. \n",
    "В качестве информации: на Билайне пакет минут расходуется, только, на разговоры с другими операторами. \n",
    "Пожалел о переходе в первый же день!!!'''\n",
    "\n",
    "m5 = 'ну конечно я не собиралась пистаь этот отзыв но все-таки удобная прога ставлю пять звезд'"
   ]
  },
  {
   "cell_type": "code",
   "execution_count": null,
   "metadata": {},
   "outputs": [],
   "source": [
    "statements = list([m0, m1, m2, m3, m4, m5])\n",
    "\n",
    "filterd_statements = [preprocess_text(t) for t in statements]\n",
    "statements_seq = get_sequences(tokenizer, filterd_statements)"
   ]
  },
  {
   "cell_type": "code",
   "execution_count": null,
   "metadata": {},
   "outputs": [],
   "source": [
    "pred = model.predict(statements_seq)\n",
    "for t in pred:\n",
    "    print(t)"
   ]
  },
  {
   "cell_type": "code",
   "execution_count": null,
   "metadata": {},
   "outputs": [],
   "source": []
  }
 ],
 "metadata": {
  "kernelspec": {
   "display_name": "Python 3",
   "language": "python",
   "name": "python3"
  },
  "language_info": {
   "codemirror_mode": {
    "name": "ipython",
    "version": 3
   },
   "file_extension": ".py",
   "mimetype": "text/x-python",
   "name": "python",
   "nbconvert_exporter": "python",
   "pygments_lexer": "ipython3",
   "version": "3.6.7"
  }
 },
 "nbformat": 4,
 "nbformat_minor": 2
}
